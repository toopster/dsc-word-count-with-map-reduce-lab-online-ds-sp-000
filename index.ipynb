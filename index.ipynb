{
 "cells": [
  {
   "cell_type": "markdown",
   "metadata": {},
   "source": [
    "# Word Count with MapReduce - Lab\n",
    "\n",
    "## Introduction\n",
    "\n",
    "Now that we have seen the key map and reduce operators in Spark, and also know when to use transformation and action operators, we can revisit the word count problem we introduced earlier in the section. In this lab, we will read a text corpus into the Spark environment, perform a word count, and try basic NLP ideas to get a good grip on how MapReduce performs. \n",
    "\n",
    "## Objectives\n",
    "\n",
    "In this lab you will:\n",
    "\n",
    "- Apply the map(func) transformation to a given function on all elements of an RDD in different partitions \n",
    "- Apply a map transformation for all elements of an RDD \n",
    "- Compare the difference between a transformation and an action within RDDs \n",
    "- Use collect(), count(), and take() actions to trigger spark transformations \n",
    "- Use filter to select data that meets certain specifications within an RDD \n",
    "- Use Spark and the MapReduce framework to complete a full parallelized word count problem \n",
    "\n",
    "## MapReduce task\n",
    "\n",
    "Here is what our problem looks like:\n",
    "\n",
    "* We have a huge text document\n",
    "* We need to count the number of times each distinct word appears in the document\n",
    "\n",
    "\n",
    "* Sample applications:\n",
    "\n",
    "    * Analyze web server logs to find popular URLs\n",
    "    * Analyze texts for content or style "
   ]
  },
  {
   "cell_type": "markdown",
   "metadata": {},
   "source": [
    "## Word Count\n",
    "\n",
    "We will illustrate a MapReduce computation for counting the number of occurrences for each word in a text corpus. In this example, the input file is a repository of documents and each document is an element. We shall count the frequency of stop words for __style identification__ as stop words might have unique features which can potentially describe the author's writing style based on their use of stop words while writing. We shall look at some texts by Shakespeare and Jane Austin following this motivation. \n",
    "\n",
    "MapReduce in PySpark provides a practical and efficient way of achieving this goal as it: \n",
    "\n",
    "* works if the file is too large for memory\n",
    "\n",
    "* works even if the output is too large for memory\n",
    "\n",
    "* is naturally parallelizable\n"
   ]
  },
  {
   "cell_type": "markdown",
   "metadata": {},
   "source": [
    "### MapReduce Framework\n",
    "\n",
    "Here are the steps that we will perform for our problem, under the MapReduce framework:  \n",
    "\n",
    "* Sequentially read a lot of data (text files in this case)\n",
    "\n",
    "\n",
    "* Map:\n",
    "    * Extract something you care about\n",
    "\n",
    "\n",
    "* Group by key: Sort and shuffle\n",
    "\n",
    "\n",
    "* Reduce:\n",
    "    * Aggregate, summarize, filter or transform\n",
    "\n",
    "\n",
    "* Write the result \n",
    "\n",
    "As a reminder, here is what it looks like visually, given the example we used before:\n",
    "![](./images/word_count.png)"
   ]
  },
  {
   "cell_type": "markdown",
   "metadata": {},
   "source": [
    "### Initialize SparkContext()\n",
    "\n",
    "- First, import the `pyspark` module into this Python environment and initialize a `SparkContext()` \n",
    "- Initialize a local spark context"
   ]
  },
  {
   "cell_type": "code",
   "execution_count": 1,
   "metadata": {},
   "outputs": [],
   "source": [
    "# Start a local SparkContext\n",
    "import pyspark\n",
    "sc = pyspark.SparkContext('local[*]')"
   ]
  },
  {
   "cell_type": "markdown",
   "metadata": {},
   "source": [
    "To test our code, start with a single text file, `'hamlet.txt'`. First, set a file path variable `file` to the location of `'text/hamlet.txt'`. "
   ]
  },
  {
   "cell_type": "code",
   "execution_count": null,
   "metadata": {},
   "outputs": [],
   "source": [
    "# Set a path variable for data \n",
    "file = 'text/hamlet.txt'\n",
    "file"
   ]
  },
  {
   "cell_type": "markdown",
   "metadata": {},
   "source": [
    "## Read and Split text file contents into RDD - `sc.textFile()`\n",
    "\n",
    "Previously we used parallelization to read an RDD from a Python list. Here we shall read the text file into Spark RDDs by using `sc.textFile()` method for loading the text file into the `lines` RDD. The documentation on RDDs can be found [here!!](https://spark.apache.org/docs/latest/rdd-programming-guide.html)\n",
    "\n",
    "The `textFile(path)` method reads a text file from the HDFS/local file system/any Hadoop supported file system, into the number of partitions specified and returns it as an RDD of strings. In order to view the contents of the RDD, we will use the `RDD.collect()` method since calling the RDD by name will not return the contents, only the object type and relevant information. "
   ]
  },
  {
   "cell_type": "code",
   "execution_count": null,
   "metadata": {},
   "outputs": [],
   "source": [
    "# Read the text file into an RDD using sc.textFile()\n",
    "lines = sc.textFile(file)\n",
    "lines"
   ]
  },
  {
   "cell_type": "markdown",
   "metadata": {},
   "source": [
    "The text file has been written in a \"line-by-line\" manner into the RDD. We can access any given entry using simple indexing. \n",
    "\n",
    "- Print a few sample lines from the `lines` RDD"
   ]
  },
  {
   "cell_type": "code",
   "execution_count": null,
   "metadata": {},
   "outputs": [],
   "source": [
    "print(lines.collect()[500])\n",
    "print(lines.collect()[1000])"
   ]
  },
  {
   "cell_type": "markdown",
   "metadata": {},
   "source": [
    "Similarly, we can also print the whole document, lines by line. \n",
    "\n",
    "- Print complete Hamlet from the lines RDD"
   ]
  },
  {
   "cell_type": "code",
   "execution_count": null,
   "metadata": {
    "scrolled": true
   },
   "outputs": [],
   "source": [
    "# Print the text, line-by-line\n",
    "# This will output the whole of hamlet text, one line at a time. \n",
    "for line in lines.collect():\n",
    "    print(line)"
   ]
  },
  {
   "cell_type": "markdown",
   "metadata": {},
   "source": [
    "Great, now that the complete text file is in a `lines` RDD, we can easily use the map function to break it down further into individual words and parallelize it accordingly. \n",
    "\n",
    "__Note: Parallelization is handled by the Spark environment according to available infrastructure and doesn't need any further configuration__.\n",
    "\n",
    "## The MAP function `map(func)`\n",
    "\n",
    "The Map function for this example uses keys that are of type string (the words) and values that are integers. The Map task reads a document and breaks it into its sequence of words `w1, w2, . . . , wn`. It then makes a sequence of key-value pairs for each word where the word itself is the key and the value is always 1. That is, the output of the Map task for this document is the sequence of key-value pairs as shown below:\n",
    "\n",
    "> `(w1, 1), (w2, 1), . . . ,(wn, 1)`\n",
    "\n",
    "This step performs the following two sub-steps:\n",
    "\n",
    "* A splitting step that takes the input dataset from the source and divides it into smaller subsets \n",
    "* A mapping step that takes those smaller subsets and performs an action or computation on each subset \n",
    "\n",
    "\n",
    "### Spark Mapping functions\n",
    "\n",
    "Previously, we saw that:\n",
    "\n",
    "- `map(func)` returns a new distributed dataset formed by passing each element of the source through a function `func`.\n",
    "\n",
    "- `flatMap(func)` maps each input item to 0 or more output items (so `func` should return a seq rather than a single item).\n",
    "\n",
    "`flatMap()` breaks the output of a lambda function into individual RDD elements (as opposed to map).\n",
    "\n",
    "---\n",
    "\n",
    "* Use `RDD.flatMap()` to split the lines by whitespace and collect into one flat RDD.\n",
    "\n",
    "* The transformation is defined in the lambda expression, where the input `x` is defined as producing the result of `x.split(' ')`.\n",
    "\n",
    "* Use the `RDD.take(n)` method to pick `n` words from the top of the sequence. \n",
    "\n",
    "* Use `flatMap()` to break the output of the lambda function into individual RDD elements. \n"
   ]
  },
  {
   "cell_type": "code",
   "execution_count": null,
   "metadata": {},
   "outputs": [],
   "source": [
    "# split the lines into words based on blanks ' ' and show ten elements from the top \n",
    "words = lines.flatMap(lambda x: x.split(' '))\n",
    "words.take(10)\n",
    "\n",
    "\n",
    "# ['', '1604', '', '', 'THE', 'TRAGEDY', 'OF', 'HAMLET,', 'PRINCE', 'OF']"
   ]
  },
  {
   "cell_type": "markdown",
   "metadata": {},
   "source": [
    "\n",
    "### Create a Tuple as (k,v)\n",
    "\n",
    "- Map each word to a tuple of (word, 1).\n",
    "\n",
    "Map doesn't break up the output of the lambda expression, meaning that the tuples stay intact."
   ]
  },
  {
   "cell_type": "code",
   "execution_count": null,
   "metadata": {},
   "outputs": [],
   "source": [
    "# Use a lambda function with map to add a 1 to each word and output a tuple\n",
    "# (word, 1) - Take ten elements\n",
    "\n",
    "tuples = words.map(lambda x: (x, 1))\n",
    "tuples.take(10)"
   ]
  },
  {
   "cell_type": "markdown",
   "metadata": {},
   "source": [
    "### Change the words to lower case to ensure integrity\n",
    "\n",
    "As we can see from the output above, the text contains words in capital as well as lower case. By default, 'THE' and 'the' would be considered two separate words due to case sensitivity. \n",
    "\n",
    "- Modify the map function above to change all the words to lowercase using a `.lower()` inside the lambda function.\n"
   ]
  },
  {
   "cell_type": "code",
   "execution_count": null,
   "metadata": {},
   "outputs": [],
   "source": [
    "# Change the words in words tuples to lowercase - take 10 elements \n",
    "tuplesLCase = words.map(lambda x: (x.lower(), 1))\n",
    "tuplesLCase.take(10)"
   ]
  },
  {
   "cell_type": "markdown",
   "metadata": {},
   "source": [
    "## REDUCE Function\n",
    "The Reduce function’s argument is a pair consisting of a key and its list of associated values as the pairs created above. The output of the Reduce function is a sequence of zero or more key-value pairs. These key-value pairs can be of a type different from those sent from Map tasks to Reduce tasks, but often they are the same type.\n",
    "\n",
    "We will refer to the application of the Reduce function to a single key and its associated list of values as a reducer.\n",
    "\n",
    "![](reduce.png)\n",
    "\n",
    "- Use `RDD.reduceByKey()` to add up all the words. the new (k, v) pairs would have the word as a key and the number of occurrences as a value. \n",
    "\n",
    "Here, the lambda has two arguments (x and y) that are added."
   ]
  },
  {
   "cell_type": "code",
   "execution_count": null,
   "metadata": {},
   "outputs": [],
   "source": [
    "# Use reduceByKey with tuplesLCase to add all values under same keys - take 10\n",
    "wordCount = tuplesLCase.reduceByKey(lambda x,y: x+y)\n",
    "wordCount.take(10)"
   ]
  },
  {
   "cell_type": "markdown",
   "metadata": {},
   "source": [
    "### Filter rare words\n",
    "\n",
    "Following the standard NLP approach, we can add a filtering step to remove all words which appear less than some threshold value, say, with less than 5 occurrences. \n",
    "\n",
    "This can be useful to identify common topics between documents, where very rare words can be misleading. \n",
    "For this step, we can use `RDD.filter(func)` where `func` is a lambda function that filters out any word which appears less than or equal to 5 times. You may also use a separate function to achieve this. \n",
    "\n",
    "- Remove rare words with occurences < 5 using lambda function inside a `.filter()` method "
   ]
  },
  {
   "cell_type": "code",
   "execution_count": null,
   "metadata": {},
   "outputs": [],
   "source": [
    "# Remove all rare words with frequency less than 5 - take 10 \n",
    "\n",
    "freqWords = wordCount.filter(lambda x:  x[1] >= 5 )\n",
    "freqWords.take(10)"
   ]
  },
  {
   "cell_type": "markdown",
   "metadata": {},
   "source": [
    "### List  of stop words\n",
    "\n",
    "Add a filtering step to retain only words included in a list of stop words. \n",
    "\n",
    "Stop words can be useful for recognizing the style of an author. Removing stop words can be useful in recognizing the topic of a document. For stop word removal, we use `RDD.filter(func)` again with a lambda function that uses a list of stop words to extract the key-value pairs for only the words that are present in the stop word list. Use a simple list like the one shown below: \n",
    "\n",
    "> ['', 'the','a','in','of','on','at','for','by','I','you','me'] \n",
    "\n",
    "\n",
    "- Use the stop word list above to count the occurrences of these words in the document\n",
    "- Show the stop word frequency"
   ]
  },
  {
   "cell_type": "code",
   "execution_count": null,
   "metadata": {},
   "outputs": [],
   "source": [
    "# show stop word frequency in the output\n",
    "\n",
    "stopWordList = ['', 'the','a','in','of','on','at','for','by','i','you','me'] \n",
    "stopWords = freqWords.filter(lambda x:  x[0] in stopWordList) \n",
    "stopWords.collect()\n"
   ]
  },
  {
   "cell_type": "markdown",
   "metadata": {},
   "source": [
    "### List of keep words\n",
    "\n",
    "- Modify the filter operation above to keep all the words found in the text **except** the stop words. "
   ]
  },
  {
   "cell_type": "code",
   "execution_count": null,
   "metadata": {
    "scrolled": true
   },
   "outputs": [],
   "source": [
    "# Modify above filter to show top ten keep words by frequency\n",
    "\n",
    "keepWords = freqWords.filter(lambda x:  x[0] not in stopWordList) \n",
    "keepWords.take(10)\n",
    "\n",
    "output = keepWords.takeOrdered(10, key=lambda x: -x[1])\n",
    "output"
   ]
  },
  {
   "cell_type": "markdown",
   "metadata": {},
   "source": [
    "### Putting it all together \n",
    "\n",
    "Combine the above code as a function and pass three works of Shakespeare (`'romeandjuliet.txt'`, `'hamlet.txt'`, `'othello.txt'`). Observe the frequency of stop words. Repeat the same exercise for three works of Jane Austin (`'senseandsensibility.txt'`, `'prideandprejudice.txt'` and `'emma.txt'`). \n",
    "\n",
    "> Can you recognize the writing styles of these authors based on their use of stop words?\n",
    "> What can you do to improve the style recognition ability?"
   ]
  },
  {
   "cell_type": "code",
   "execution_count": 4,
   "metadata": {},
   "outputs": [],
   "source": [
    "# Create a function for word count that takes in a file name and stop wordlist to perform above tasks\n",
    "def wordCount(filename, stopWordlist):\n",
    "    lines = sc.textFile(filename)\n",
    "    words1 = lines.flatMap(lambda x: x.split(' '))\n",
    "    words2 = words1.map(lambda x: (x.lower(), 1))\n",
    "    wordCount = words2.reduceByKey(lambda x,y: x+y)\n",
    "    freqWords = wordCount.filter(lambda x:  x[1] >= 5 )\n",
    "    stopWords = freqWords.filter(lambda x:  x[0] in stopWordList) \n",
    "    output = stopWords.collect()\n",
    "    \n",
    "    return output"
   ]
  },
  {
   "cell_type": "code",
   "execution_count": 6,
   "metadata": {},
   "outputs": [],
   "source": [
    "stopWordList = ['', 'the','a','in','of','on','at','for','by','i','you','me'] "
   ]
  },
  {
   "cell_type": "code",
   "execution_count": 11,
   "metadata": {},
   "outputs": [
    {
     "data": {
      "text/plain": [
       "[('of', 468),\n",
       " ('', 3341),\n",
       " ('at', 76),\n",
       " ('in', 329),\n",
       " ('i', 579),\n",
       " ('the', 767),\n",
       " ('for', 245),\n",
       " ('a', 516),\n",
       " ('you', 309),\n",
       " ('on', 84),\n",
       " ('by', 132),\n",
       " ('me', 194)]"
      ]
     },
     "execution_count": 11,
     "metadata": {},
     "output_type": "execute_result"
    }
   ],
   "source": [
    "wordCount('text/romeoandjuliet.txt', stopWordList)"
   ]
  },
  {
   "cell_type": "code",
   "execution_count": 8,
   "metadata": {},
   "outputs": [
    {
     "data": {
      "text/plain": [
       "[('', 20383),\n",
       " ('of', 670),\n",
       " ('at', 87),\n",
       " ('i', 523),\n",
       " ('in', 420),\n",
       " ('the', 1083),\n",
       " ('by', 111),\n",
       " ('a', 540),\n",
       " ('you', 433),\n",
       " ('for', 231),\n",
       " ('me', 144),\n",
       " ('on', 108)]"
      ]
     },
     "execution_count": 8,
     "metadata": {},
     "output_type": "execute_result"
    }
   ],
   "source": [
    "wordCount('text/hamlet.txt', stopWordList)"
   ]
  },
  {
   "cell_type": "code",
   "execution_count": 9,
   "metadata": {},
   "outputs": [
    {
     "data": {
      "text/plain": [
       "[('', 4229),\n",
       " ('of', 538),\n",
       " ('at', 75),\n",
       " ('in', 326),\n",
       " ('i', 830),\n",
       " ('the', 812),\n",
       " ('for', 255),\n",
       " ('a', 472),\n",
       " ('you', 449),\n",
       " ('on', 105),\n",
       " ('by', 124),\n",
       " ('me', 190)]"
      ]
     },
     "execution_count": 9,
     "metadata": {},
     "output_type": "execute_result"
    }
   ],
   "source": [
    "wordCount('text/othello.txt', stopWordList)"
   ]
  },
  {
   "cell_type": "code",
   "execution_count": 13,
   "metadata": {},
   "outputs": [
    {
     "data": {
      "text/plain": [
       "[('of', 3790),\n",
       " ('', 3652),\n",
       " ('at', 844),\n",
       " ('i', 1699),\n",
       " ('in', 2037),\n",
       " ('the', 4405),\n",
       " ('by', 773),\n",
       " ('for', 1235),\n",
       " ('you', 949),\n",
       " ('on', 675),\n",
       " ('a', 2141),\n",
       " ('me', 257)]"
      ]
     },
     "execution_count": 13,
     "metadata": {},
     "output_type": "execute_result"
    }
   ],
   "source": [
    "wordCount('text/senseandsensibility.txt', stopWordList)"
   ]
  },
  {
   "cell_type": "code",
   "execution_count": 14,
   "metadata": {},
   "outputs": [
    {
     "data": {
      "text/plain": [
       "[('', 6539),\n",
       " ('of', 3703),\n",
       " ('at', 785),\n",
       " ('in', 1895),\n",
       " ('i', 1696),\n",
       " ('the', 4490),\n",
       " ('by', 648),\n",
       " ('for', 1035),\n",
       " ('you', 1099),\n",
       " ('a', 1971),\n",
       " ('on', 685),\n",
       " ('me', 257)]"
      ]
     },
     "execution_count": 14,
     "metadata": {},
     "output_type": "execute_result"
    }
   ],
   "source": [
    "wordCount('text/prideandprejudice.txt', stopWordList)"
   ]
  },
  {
   "cell_type": "code",
   "execution_count": 15,
   "metadata": {},
   "outputs": [
    {
     "data": {
      "text/plain": [
       "[('of', 4312),\n",
       " ('', 3322),\n",
       " ('at', 1020),\n",
       " ('i', 2548),\n",
       " ('in', 2139),\n",
       " ('the', 5269),\n",
       " ('by', 574),\n",
       " ('for', 1267),\n",
       " ('you', 1588),\n",
       " ('a', 3098),\n",
       " ('on', 632),\n",
       " ('me', 314)]"
      ]
     },
     "execution_count": 15,
     "metadata": {},
     "output_type": "execute_result"
    }
   ],
   "source": [
    "wordCount('text/emma.txt', stopWordList)"
   ]
  },
  {
   "cell_type": "markdown",
   "metadata": {},
   "source": [
    "## Level Up (Optional)\n",
    "\n",
    "* Create histograms of the top 50 words from each author\n",
    "\n",
    "\n",
    "## Summary \n",
    "\n",
    "In this simple exercise, we saw MapReduce in action for solving a basic NLP task, i.e. counting the frequency of stop words and keep words of a text corpus. This exercise can be seen as a first step towards text analytics on big data platforms. After this lab, we will get into more advanced use cases of PySpark, specifically for machine learning applications. "
   ]
  }
 ],
 "metadata": {
  "kernelspec": {
   "display_name": "Python 3",
   "language": "python",
   "name": "python3"
  },
  "language_info": {
   "codemirror_mode": {
    "name": "ipython",
    "version": 3
   },
   "file_extension": ".py",
   "mimetype": "text/x-python",
   "name": "python",
   "nbconvert_exporter": "python",
   "pygments_lexer": "ipython3",
   "version": "3.9.4"
  }
 },
 "nbformat": 4,
 "nbformat_minor": 1
}
